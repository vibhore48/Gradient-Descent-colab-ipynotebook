{
  "nbformat": 4,
  "nbformat_minor": 0,
  "metadata": {
    "colab": {
      "provenance": []
    },
    "kernelspec": {
      "name": "python3",
      "display_name": "Python 3"
    },
    "language_info": {
      "name": "python"
    },
    "widgets": {
      "application/vnd.jupyter.widget-state+json": {
        "138bd63d7ff14bafbde30126c9361c7a": {
          "model_module": "@jupyter-widgets/controls",
          "model_name": "VBoxModel",
          "model_module_version": "1.5.0",
          "state": {
            "_dom_classes": [
              "widget-interact"
            ],
            "_model_module": "@jupyter-widgets/controls",
            "_model_module_version": "1.5.0",
            "_model_name": "VBoxModel",
            "_view_count": null,
            "_view_module": "@jupyter-widgets/controls",
            "_view_module_version": "1.5.0",
            "_view_name": "VBoxView",
            "box_style": "",
            "children": [
              "IPY_MODEL_34fd23cef08944c9814ab92823aa2bbf",
              "IPY_MODEL_c852345abc07443092d70d1645f25e73"
            ],
            "layout": "IPY_MODEL_1d71cd54d48545c4951eb192d4595842"
          }
        },
        "34fd23cef08944c9814ab92823aa2bbf": {
          "model_module": "@jupyter-widgets/controls",
          "model_name": "IntSliderModel",
          "model_module_version": "1.5.0",
          "state": {
            "_dom_classes": [],
            "_model_module": "@jupyter-widgets/controls",
            "_model_module_version": "1.5.0",
            "_model_name": "IntSliderModel",
            "_view_count": null,
            "_view_module": "@jupyter-widgets/controls",
            "_view_module_version": "1.5.0",
            "_view_name": "IntSliderView",
            "continuous_update": true,
            "description": "epochs",
            "description_tooltip": null,
            "disabled": false,
            "layout": "IPY_MODEL_5dced56d2be34742be442ed9b9e08206",
            "max": 130,
            "min": 1,
            "orientation": "horizontal",
            "readout": true,
            "readout_format": "d",
            "step": 1,
            "style": "IPY_MODEL_29b2c29193a84fa8b9d7309388260a3d",
            "value": 1
          }
        },
        "c852345abc07443092d70d1645f25e73": {
          "model_module": "@jupyter-widgets/output",
          "model_name": "OutputModel",
          "model_module_version": "1.0.0",
          "state": {
            "_dom_classes": [],
            "_model_module": "@jupyter-widgets/output",
            "_model_module_version": "1.0.0",
            "_model_name": "OutputModel",
            "_view_count": null,
            "_view_module": "@jupyter-widgets/output",
            "_view_module_version": "1.0.0",
            "_view_name": "OutputView",
            "layout": "IPY_MODEL_ba3f15848d064f64a279b092c8c84448",
            "msg_id": "",
            "outputs": [
              {
                "output_type": "stream",
                "name": "stdout",
                "text": [
                  "m(slope):-123.03917476456498\n",
                  "c(intercept):142.3937121047451\n",
                  "epochs/iterations: 1\n",
                  "                                equation: y = -123x + 142\n"
                ]
              },
              {
                "output_type": "display_data",
                "data": {
                  "text/plain": "<Figure size 640x480 with 1 Axes>",
                  "image/png": "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\n"
                },
                "metadata": {}
              }
            ]
          }
        },
        "1d71cd54d48545c4951eb192d4595842": {
          "model_module": "@jupyter-widgets/base",
          "model_name": "LayoutModel",
          "model_module_version": "1.2.0",
          "state": {
            "_model_module": "@jupyter-widgets/base",
            "_model_module_version": "1.2.0",
            "_model_name": "LayoutModel",
            "_view_count": null,
            "_view_module": "@jupyter-widgets/base",
            "_view_module_version": "1.2.0",
            "_view_name": "LayoutView",
            "align_content": null,
            "align_items": null,
            "align_self": null,
            "border": null,
            "bottom": null,
            "display": null,
            "flex": null,
            "flex_flow": null,
            "grid_area": null,
            "grid_auto_columns": null,
            "grid_auto_flow": null,
            "grid_auto_rows": null,
            "grid_column": null,
            "grid_gap": null,
            "grid_row": null,
            "grid_template_areas": null,
            "grid_template_columns": null,
            "grid_template_rows": null,
            "height": null,
            "justify_content": null,
            "justify_items": null,
            "left": null,
            "margin": null,
            "max_height": null,
            "max_width": null,
            "min_height": null,
            "min_width": null,
            "object_fit": null,
            "object_position": null,
            "order": null,
            "overflow": null,
            "overflow_x": null,
            "overflow_y": null,
            "padding": null,
            "right": null,
            "top": null,
            "visibility": null,
            "width": null
          }
        },
        "5dced56d2be34742be442ed9b9e08206": {
          "model_module": "@jupyter-widgets/base",
          "model_name": "LayoutModel",
          "model_module_version": "1.2.0",
          "state": {
            "_model_module": "@jupyter-widgets/base",
            "_model_module_version": "1.2.0",
            "_model_name": "LayoutModel",
            "_view_count": null,
            "_view_module": "@jupyter-widgets/base",
            "_view_module_version": "1.2.0",
            "_view_name": "LayoutView",
            "align_content": null,
            "align_items": null,
            "align_self": null,
            "border": null,
            "bottom": null,
            "display": null,
            "flex": null,
            "flex_flow": null,
            "grid_area": null,
            "grid_auto_columns": null,
            "grid_auto_flow": null,
            "grid_auto_rows": null,
            "grid_column": null,
            "grid_gap": null,
            "grid_row": null,
            "grid_template_areas": null,
            "grid_template_columns": null,
            "grid_template_rows": null,
            "height": null,
            "justify_content": null,
            "justify_items": null,
            "left": null,
            "margin": null,
            "max_height": null,
            "max_width": null,
            "min_height": null,
            "min_width": null,
            "object_fit": null,
            "object_position": null,
            "order": null,
            "overflow": null,
            "overflow_x": null,
            "overflow_y": null,
            "padding": null,
            "right": null,
            "top": null,
            "visibility": null,
            "width": null
          }
        },
        "29b2c29193a84fa8b9d7309388260a3d": {
          "model_module": "@jupyter-widgets/controls",
          "model_name": "SliderStyleModel",
          "model_module_version": "1.5.0",
          "state": {
            "_model_module": "@jupyter-widgets/controls",
            "_model_module_version": "1.5.0",
            "_model_name": "SliderStyleModel",
            "_view_count": null,
            "_view_module": "@jupyter-widgets/base",
            "_view_module_version": "1.2.0",
            "_view_name": "StyleView",
            "description_width": "",
            "handle_color": null
          }
        },
        "ba3f15848d064f64a279b092c8c84448": {
          "model_module": "@jupyter-widgets/base",
          "model_name": "LayoutModel",
          "model_module_version": "1.2.0",
          "state": {
            "_model_module": "@jupyter-widgets/base",
            "_model_module_version": "1.2.0",
            "_model_name": "LayoutModel",
            "_view_count": null,
            "_view_module": "@jupyter-widgets/base",
            "_view_module_version": "1.2.0",
            "_view_name": "LayoutView",
            "align_content": null,
            "align_items": null,
            "align_self": null,
            "border": null,
            "bottom": null,
            "display": null,
            "flex": null,
            "flex_flow": null,
            "grid_area": null,
            "grid_auto_columns": null,
            "grid_auto_flow": null,
            "grid_auto_rows": null,
            "grid_column": null,
            "grid_gap": null,
            "grid_row": null,
            "grid_template_areas": null,
            "grid_template_columns": null,
            "grid_template_rows": null,
            "height": null,
            "justify_content": null,
            "justify_items": null,
            "left": null,
            "margin": null,
            "max_height": null,
            "max_width": null,
            "min_height": null,
            "min_width": null,
            "object_fit": null,
            "object_position": null,
            "order": null,
            "overflow": null,
            "overflow_x": null,
            "overflow_y": null,
            "padding": null,
            "right": null,
            "top": null,
            "visibility": null,
            "width": null
          }
        },
        "5d1f9f4ebf3448359bafc947d038df1e": {
          "model_module": "@jupyter-widgets/controls",
          "model_name": "VBoxModel",
          "model_module_version": "1.5.0",
          "state": {
            "_dom_classes": [
              "widget-interact"
            ],
            "_model_module": "@jupyter-widgets/controls",
            "_model_module_version": "1.5.0",
            "_model_name": "VBoxModel",
            "_view_count": null,
            "_view_module": "@jupyter-widgets/controls",
            "_view_module_version": "1.5.0",
            "_view_name": "VBoxView",
            "box_style": "",
            "children": [
              "IPY_MODEL_7cbed241466042bc816dfcd76ec9a112",
              "IPY_MODEL_36084788c045412fba57d6d4f39971e8"
            ],
            "layout": "IPY_MODEL_23937b9e7d124858b44b477ba95a24ae"
          }
        },
        "7cbed241466042bc816dfcd76ec9a112": {
          "model_module": "@jupyter-widgets/controls",
          "model_name": "PlayModel",
          "model_module_version": "1.5.0",
          "state": {
            "_dom_classes": [],
            "_model_module": "@jupyter-widgets/controls",
            "_model_module_version": "1.5.0",
            "_model_name": "PlayModel",
            "_playing": false,
            "_repeat": false,
            "_view_count": null,
            "_view_module": "@jupyter-widgets/controls",
            "_view_module_version": "1.5.0",
            "_view_name": "PlayView",
            "description": "epochs",
            "description_tooltip": null,
            "disabled": false,
            "interval": 200,
            "layout": "IPY_MODEL_6485415e20704272802b276eebbbbc78",
            "max": 130,
            "min": 1,
            "show_repeat": true,
            "step": 1,
            "style": "IPY_MODEL_4a40180f5f664661a36e04c0c251a8cf",
            "value": 1
          }
        },
        "36084788c045412fba57d6d4f39971e8": {
          "model_module": "@jupyter-widgets/output",
          "model_name": "OutputModel",
          "model_module_version": "1.0.0",
          "state": {
            "_dom_classes": [],
            "_model_module": "@jupyter-widgets/output",
            "_model_module_version": "1.0.0",
            "_model_name": "OutputModel",
            "_view_count": null,
            "_view_module": "@jupyter-widgets/output",
            "_view_module_version": "1.0.0",
            "_view_name": "OutputView",
            "layout": "IPY_MODEL_8e871bb3154b442c8ac618914be8f214",
            "msg_id": "",
            "outputs": [
              {
                "output_type": "stream",
                "name": "stdout",
                "text": [
                  "m(slope):-123.03917476456498\n",
                  "c(intercept):142.3937121047451\n",
                  "epochs/iterations: 1\n",
                  "                                equation: y = -123x + 142\n"
                ]
              },
              {
                "output_type": "display_data",
                "data": {
                  "text/plain": "<Figure size 640x480 with 1 Axes>",
                  "image/png": "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\n"
                },
                "metadata": {}
              }
            ]
          }
        },
        "23937b9e7d124858b44b477ba95a24ae": {
          "model_module": "@jupyter-widgets/base",
          "model_name": "LayoutModel",
          "model_module_version": "1.2.0",
          "state": {
            "_model_module": "@jupyter-widgets/base",
            "_model_module_version": "1.2.0",
            "_model_name": "LayoutModel",
            "_view_count": null,
            "_view_module": "@jupyter-widgets/base",
            "_view_module_version": "1.2.0",
            "_view_name": "LayoutView",
            "align_content": null,
            "align_items": null,
            "align_self": null,
            "border": null,
            "bottom": null,
            "display": null,
            "flex": null,
            "flex_flow": null,
            "grid_area": null,
            "grid_auto_columns": null,
            "grid_auto_flow": null,
            "grid_auto_rows": null,
            "grid_column": null,
            "grid_gap": null,
            "grid_row": null,
            "grid_template_areas": null,
            "grid_template_columns": null,
            "grid_template_rows": null,
            "height": null,
            "justify_content": null,
            "justify_items": null,
            "left": null,
            "margin": null,
            "max_height": null,
            "max_width": null,
            "min_height": null,
            "min_width": null,
            "object_fit": null,
            "object_position": null,
            "order": null,
            "overflow": null,
            "overflow_x": null,
            "overflow_y": null,
            "padding": null,
            "right": null,
            "top": null,
            "visibility": null,
            "width": null
          }
        },
        "6485415e20704272802b276eebbbbc78": {
          "model_module": "@jupyter-widgets/base",
          "model_name": "LayoutModel",
          "model_module_version": "1.2.0",
          "state": {
            "_model_module": "@jupyter-widgets/base",
            "_model_module_version": "1.2.0",
            "_model_name": "LayoutModel",
            "_view_count": null,
            "_view_module": "@jupyter-widgets/base",
            "_view_module_version": "1.2.0",
            "_view_name": "LayoutView",
            "align_content": null,
            "align_items": null,
            "align_self": null,
            "border": null,
            "bottom": null,
            "display": null,
            "flex": null,
            "flex_flow": null,
            "grid_area": null,
            "grid_auto_columns": null,
            "grid_auto_flow": null,
            "grid_auto_rows": null,
            "grid_column": null,
            "grid_gap": null,
            "grid_row": null,
            "grid_template_areas": null,
            "grid_template_columns": null,
            "grid_template_rows": null,
            "height": null,
            "justify_content": null,
            "justify_items": null,
            "left": null,
            "margin": null,
            "max_height": null,
            "max_width": null,
            "min_height": null,
            "min_width": null,
            "object_fit": null,
            "object_position": null,
            "order": null,
            "overflow": null,
            "overflow_x": null,
            "overflow_y": null,
            "padding": null,
            "right": null,
            "top": null,
            "visibility": null,
            "width": null
          }
        },
        "4a40180f5f664661a36e04c0c251a8cf": {
          "model_module": "@jupyter-widgets/controls",
          "model_name": "DescriptionStyleModel",
          "model_module_version": "1.5.0",
          "state": {
            "_model_module": "@jupyter-widgets/controls",
            "_model_module_version": "1.5.0",
            "_model_name": "DescriptionStyleModel",
            "_view_count": null,
            "_view_module": "@jupyter-widgets/base",
            "_view_module_version": "1.2.0",
            "_view_name": "StyleView",
            "description_width": ""
          }
        },
        "8e871bb3154b442c8ac618914be8f214": {
          "model_module": "@jupyter-widgets/base",
          "model_name": "LayoutModel",
          "model_module_version": "1.2.0",
          "state": {
            "_model_module": "@jupyter-widgets/base",
            "_model_module_version": "1.2.0",
            "_model_name": "LayoutModel",
            "_view_count": null,
            "_view_module": "@jupyter-widgets/base",
            "_view_module_version": "1.2.0",
            "_view_name": "LayoutView",
            "align_content": null,
            "align_items": null,
            "align_self": null,
            "border": null,
            "bottom": null,
            "display": null,
            "flex": null,
            "flex_flow": null,
            "grid_area": null,
            "grid_auto_columns": null,
            "grid_auto_flow": null,
            "grid_auto_rows": null,
            "grid_column": null,
            "grid_gap": null,
            "grid_row": null,
            "grid_template_areas": null,
            "grid_template_columns": null,
            "grid_template_rows": null,
            "height": null,
            "justify_content": null,
            "justify_items": null,
            "left": null,
            "margin": null,
            "max_height": null,
            "max_width": null,
            "min_height": null,
            "min_width": null,
            "object_fit": null,
            "object_position": null,
            "order": null,
            "overflow": null,
            "overflow_x": null,
            "overflow_y": null,
            "padding": null,
            "right": null,
            "top": null,
            "visibility": null,
            "width": null
          }
        },
        "fbdc0f3117bb4e09b4a081c853be4556": {
          "model_module": "@jupyter-widgets/controls",
          "model_name": "VBoxModel",
          "model_module_version": "1.5.0",
          "state": {
            "_dom_classes": [
              "widget-interact"
            ],
            "_model_module": "@jupyter-widgets/controls",
            "_model_module_version": "1.5.0",
            "_model_name": "VBoxModel",
            "_view_count": null,
            "_view_module": "@jupyter-widgets/controls",
            "_view_module_version": "1.5.0",
            "_view_name": "VBoxView",
            "box_style": "",
            "children": [
              "IPY_MODEL_75c71c6b147845da874bfca276504182",
              "IPY_MODEL_f13c875dff9e4028be4ee33be970f53b"
            ],
            "layout": "IPY_MODEL_30b2ee6abd284695ac76da6ef99f80ad"
          }
        },
        "75c71c6b147845da874bfca276504182": {
          "model_module": "@jupyter-widgets/controls",
          "model_name": "PlayModel",
          "model_module_version": "1.5.0",
          "state": {
            "_dom_classes": [],
            "_model_module": "@jupyter-widgets/controls",
            "_model_module_version": "1.5.0",
            "_model_name": "PlayModel",
            "_playing": false,
            "_repeat": false,
            "_view_count": null,
            "_view_module": "@jupyter-widgets/controls",
            "_view_module_version": "1.5.0",
            "_view_name": "PlayView",
            "description": "epochs",
            "description_tooltip": null,
            "disabled": false,
            "interval": 500,
            "layout": "IPY_MODEL_e704e27480744aa4afda4c1d132f1559",
            "max": 120,
            "min": 1,
            "show_repeat": true,
            "step": 1,
            "style": "IPY_MODEL_d2282114838c41939856c9a6780f7f3f",
            "value": 1
          }
        },
        "f13c875dff9e4028be4ee33be970f53b": {
          "model_module": "@jupyter-widgets/output",
          "model_name": "OutputModel",
          "model_module_version": "1.0.0",
          "state": {
            "_dom_classes": [],
            "_model_module": "@jupyter-widgets/output",
            "_model_module_version": "1.0.0",
            "_model_name": "OutputModel",
            "_view_count": null,
            "_view_module": "@jupyter-widgets/output",
            "_view_module_version": "1.0.0",
            "_view_name": "OutputView",
            "layout": "IPY_MODEL_012b6b1086b74f3dabeeb4f974803eb4",
            "msg_id": "",
            "outputs": [
              {
                "output_type": "stream",
                "name": "stdout",
                "text": [
                  "m:-277.25301465385417\n",
                  "Loss(m): 369572.7356655433\n",
                  "epochs/iterations: 1\n"
                ]
              },
              {
                "output_type": "display_data",
                "data": {
                  "text/plain": "<Figure size 640x480 with 1 Axes>",
                  "image/png": "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\n"
                },
                "metadata": {}
              }
            ]
          }
        },
        "30b2ee6abd284695ac76da6ef99f80ad": {
          "model_module": "@jupyter-widgets/base",
          "model_name": "LayoutModel",
          "model_module_version": "1.2.0",
          "state": {
            "_model_module": "@jupyter-widgets/base",
            "_model_module_version": "1.2.0",
            "_model_name": "LayoutModel",
            "_view_count": null,
            "_view_module": "@jupyter-widgets/base",
            "_view_module_version": "1.2.0",
            "_view_name": "LayoutView",
            "align_content": null,
            "align_items": null,
            "align_self": null,
            "border": null,
            "bottom": null,
            "display": null,
            "flex": null,
            "flex_flow": null,
            "grid_area": null,
            "grid_auto_columns": null,
            "grid_auto_flow": null,
            "grid_auto_rows": null,
            "grid_column": null,
            "grid_gap": null,
            "grid_row": null,
            "grid_template_areas": null,
            "grid_template_columns": null,
            "grid_template_rows": null,
            "height": null,
            "justify_content": null,
            "justify_items": null,
            "left": null,
            "margin": null,
            "max_height": null,
            "max_width": null,
            "min_height": null,
            "min_width": null,
            "object_fit": null,
            "object_position": null,
            "order": null,
            "overflow": null,
            "overflow_x": null,
            "overflow_y": null,
            "padding": null,
            "right": null,
            "top": null,
            "visibility": null,
            "width": null
          }
        },
        "e704e27480744aa4afda4c1d132f1559": {
          "model_module": "@jupyter-widgets/base",
          "model_name": "LayoutModel",
          "model_module_version": "1.2.0",
          "state": {
            "_model_module": "@jupyter-widgets/base",
            "_model_module_version": "1.2.0",
            "_model_name": "LayoutModel",
            "_view_count": null,
            "_view_module": "@jupyter-widgets/base",
            "_view_module_version": "1.2.0",
            "_view_name": "LayoutView",
            "align_content": null,
            "align_items": null,
            "align_self": null,
            "border": null,
            "bottom": null,
            "display": null,
            "flex": null,
            "flex_flow": null,
            "grid_area": null,
            "grid_auto_columns": null,
            "grid_auto_flow": null,
            "grid_auto_rows": null,
            "grid_column": null,
            "grid_gap": null,
            "grid_row": null,
            "grid_template_areas": null,
            "grid_template_columns": null,
            "grid_template_rows": null,
            "height": null,
            "justify_content": null,
            "justify_items": null,
            "left": null,
            "margin": null,
            "max_height": null,
            "max_width": null,
            "min_height": null,
            "min_width": null,
            "object_fit": null,
            "object_position": null,
            "order": null,
            "overflow": null,
            "overflow_x": null,
            "overflow_y": null,
            "padding": null,
            "right": null,
            "top": null,
            "visibility": null,
            "width": null
          }
        },
        "d2282114838c41939856c9a6780f7f3f": {
          "model_module": "@jupyter-widgets/controls",
          "model_name": "DescriptionStyleModel",
          "model_module_version": "1.5.0",
          "state": {
            "_model_module": "@jupyter-widgets/controls",
            "_model_module_version": "1.5.0",
            "_model_name": "DescriptionStyleModel",
            "_view_count": null,
            "_view_module": "@jupyter-widgets/base",
            "_view_module_version": "1.2.0",
            "_view_name": "StyleView",
            "description_width": ""
          }
        },
        "012b6b1086b74f3dabeeb4f974803eb4": {
          "model_module": "@jupyter-widgets/base",
          "model_name": "LayoutModel",
          "model_module_version": "1.2.0",
          "state": {
            "_model_module": "@jupyter-widgets/base",
            "_model_module_version": "1.2.0",
            "_model_name": "LayoutModel",
            "_view_count": null,
            "_view_module": "@jupyter-widgets/base",
            "_view_module_version": "1.2.0",
            "_view_name": "LayoutView",
            "align_content": null,
            "align_items": null,
            "align_self": null,
            "border": null,
            "bottom": null,
            "display": null,
            "flex": null,
            "flex_flow": null,
            "grid_area": null,
            "grid_auto_columns": null,
            "grid_auto_flow": null,
            "grid_auto_rows": null,
            "grid_column": null,
            "grid_gap": null,
            "grid_row": null,
            "grid_template_areas": null,
            "grid_template_columns": null,
            "grid_template_rows": null,
            "height": null,
            "justify_content": null,
            "justify_items": null,
            "left": null,
            "margin": null,
            "max_height": null,
            "max_width": null,
            "min_height": null,
            "min_width": null,
            "object_fit": null,
            "object_position": null,
            "order": null,
            "overflow": null,
            "overflow_x": null,
            "overflow_y": null,
            "padding": null,
            "right": null,
            "top": null,
            "visibility": null,
            "width": null
          }
        },
        "a9e0379389414dbc86e44c92104ca60a": {
          "model_module": "@jupyter-widgets/controls",
          "model_name": "VBoxModel",
          "model_module_version": "1.5.0",
          "state": {
            "_dom_classes": [
              "widget-interact"
            ],
            "_model_module": "@jupyter-widgets/controls",
            "_model_module_version": "1.5.0",
            "_model_name": "VBoxModel",
            "_view_count": null,
            "_view_module": "@jupyter-widgets/controls",
            "_view_module_version": "1.5.0",
            "_view_name": "VBoxView",
            "box_style": "",
            "children": [
              "IPY_MODEL_fb9eb344c6b1417da776ffd536be8596",
              "IPY_MODEL_1a2078fd77b0483b96c3c903d25b4545"
            ],
            "layout": "IPY_MODEL_9c9f52ed5d8d4f199361194cec574359"
          }
        },
        "fb9eb344c6b1417da776ffd536be8596": {
          "model_module": "@jupyter-widgets/controls",
          "model_name": "PlayModel",
          "model_module_version": "1.5.0",
          "state": {
            "_dom_classes": [],
            "_model_module": "@jupyter-widgets/controls",
            "_model_module_version": "1.5.0",
            "_model_name": "PlayModel",
            "_playing": false,
            "_repeat": false,
            "_view_count": null,
            "_view_module": "@jupyter-widgets/controls",
            "_view_module_version": "1.5.0",
            "_view_name": "PlayView",
            "description": "epochs",
            "description_tooltip": null,
            "disabled": false,
            "interval": 100,
            "layout": "IPY_MODEL_c6e76f020fe24a4b9457042aaa5e17b4",
            "max": 1000,
            "min": 1,
            "show_repeat": true,
            "step": 1,
            "style": "IPY_MODEL_907e760e194943faadd033e8eee67405",
            "value": 1
          }
        },
        "1a2078fd77b0483b96c3c903d25b4545": {
          "model_module": "@jupyter-widgets/output",
          "model_name": "OutputModel",
          "model_module_version": "1.0.0",
          "state": {
            "_dom_classes": [],
            "_model_module": "@jupyter-widgets/output",
            "_model_module_version": "1.0.0",
            "_model_name": "OutputModel",
            "_view_count": null,
            "_view_module": "@jupyter-widgets/output",
            "_view_module_version": "1.0.0",
            "_view_name": "OutputView",
            "layout": "IPY_MODEL_2bd32b469a6e46e0bad9c6c5aacb460a",
            "msg_id": "",
            "outputs": [
              {
                "output_type": "stream",
                "name": "stdout",
                "text": [
                  "m:-297.7253014653854\n",
                  "Loss(m): 414557.6085436116\n",
                  "epochs/iterations: 1\n",
                  "                                   Learning Rate: 0.001\n"
                ]
              },
              {
                "output_type": "display_data",
                "data": {
                  "text/plain": "<Figure size 640x480 with 1 Axes>",
                  "image/png": "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\n"
                },
                "metadata": {}
              }
            ]
          }
        },
        "9c9f52ed5d8d4f199361194cec574359": {
          "model_module": "@jupyter-widgets/base",
          "model_name": "LayoutModel",
          "model_module_version": "1.2.0",
          "state": {
            "_model_module": "@jupyter-widgets/base",
            "_model_module_version": "1.2.0",
            "_model_name": "LayoutModel",
            "_view_count": null,
            "_view_module": "@jupyter-widgets/base",
            "_view_module_version": "1.2.0",
            "_view_name": "LayoutView",
            "align_content": null,
            "align_items": null,
            "align_self": null,
            "border": null,
            "bottom": null,
            "display": null,
            "flex": null,
            "flex_flow": null,
            "grid_area": null,
            "grid_auto_columns": null,
            "grid_auto_flow": null,
            "grid_auto_rows": null,
            "grid_column": null,
            "grid_gap": null,
            "grid_row": null,
            "grid_template_areas": null,
            "grid_template_columns": null,
            "grid_template_rows": null,
            "height": null,
            "justify_content": null,
            "justify_items": null,
            "left": null,
            "margin": null,
            "max_height": null,
            "max_width": null,
            "min_height": null,
            "min_width": null,
            "object_fit": null,
            "object_position": null,
            "order": null,
            "overflow": null,
            "overflow_x": null,
            "overflow_y": null,
            "padding": null,
            "right": null,
            "top": null,
            "visibility": null,
            "width": null
          }
        },
        "c6e76f020fe24a4b9457042aaa5e17b4": {
          "model_module": "@jupyter-widgets/base",
          "model_name": "LayoutModel",
          "model_module_version": "1.2.0",
          "state": {
            "_model_module": "@jupyter-widgets/base",
            "_model_module_version": "1.2.0",
            "_model_name": "LayoutModel",
            "_view_count": null,
            "_view_module": "@jupyter-widgets/base",
            "_view_module_version": "1.2.0",
            "_view_name": "LayoutView",
            "align_content": null,
            "align_items": null,
            "align_self": null,
            "border": null,
            "bottom": null,
            "display": null,
            "flex": null,
            "flex_flow": null,
            "grid_area": null,
            "grid_auto_columns": null,
            "grid_auto_flow": null,
            "grid_auto_rows": null,
            "grid_column": null,
            "grid_gap": null,
            "grid_row": null,
            "grid_template_areas": null,
            "grid_template_columns": null,
            "grid_template_rows": null,
            "height": null,
            "justify_content": null,
            "justify_items": null,
            "left": null,
            "margin": null,
            "max_height": null,
            "max_width": null,
            "min_height": null,
            "min_width": null,
            "object_fit": null,
            "object_position": null,
            "order": null,
            "overflow": null,
            "overflow_x": null,
            "overflow_y": null,
            "padding": null,
            "right": null,
            "top": null,
            "visibility": null,
            "width": null
          }
        },
        "907e760e194943faadd033e8eee67405": {
          "model_module": "@jupyter-widgets/controls",
          "model_name": "DescriptionStyleModel",
          "model_module_version": "1.5.0",
          "state": {
            "_model_module": "@jupyter-widgets/controls",
            "_model_module_version": "1.5.0",
            "_model_name": "DescriptionStyleModel",
            "_view_count": null,
            "_view_module": "@jupyter-widgets/base",
            "_view_module_version": "1.2.0",
            "_view_name": "StyleView",
            "description_width": ""
          }
        },
        "2bd32b469a6e46e0bad9c6c5aacb460a": {
          "model_module": "@jupyter-widgets/base",
          "model_name": "LayoutModel",
          "model_module_version": "1.2.0",
          "state": {
            "_model_module": "@jupyter-widgets/base",
            "_model_module_version": "1.2.0",
            "_model_name": "LayoutModel",
            "_view_count": null,
            "_view_module": "@jupyter-widgets/base",
            "_view_module_version": "1.2.0",
            "_view_name": "LayoutView",
            "align_content": null,
            "align_items": null,
            "align_self": null,
            "border": null,
            "bottom": null,
            "display": null,
            "flex": null,
            "flex_flow": null,
            "grid_area": null,
            "grid_auto_columns": null,
            "grid_auto_flow": null,
            "grid_auto_rows": null,
            "grid_column": null,
            "grid_gap": null,
            "grid_row": null,
            "grid_template_areas": null,
            "grid_template_columns": null,
            "grid_template_rows": null,
            "height": null,
            "justify_content": null,
            "justify_items": null,
            "left": null,
            "margin": null,
            "max_height": null,
            "max_width": null,
            "min_height": null,
            "min_width": null,
            "object_fit": null,
            "object_position": null,
            "order": null,
            "overflow": null,
            "overflow_x": null,
            "overflow_y": null,
            "padding": null,
            "right": null,
            "top": null,
            "visibility": null,
            "width": null
          }
        }
      }
    }
  },
  "cells": [
    {
      "cell_type": "markdown",
      "source": [
        "***\n",
        "$\\mathbf{\\text{Gradient Descent Algorithm}}$<br>\n",
        "***\n",
        "Dataset {${x_{i},y_{i}}$} $_{i=1}^{n}$\\\n",
        "Simple Linear equation for prediction --> $\\hat y = mx+c$\\\n",
        "Here m (slope) and c(intercept) are parameters of the prediction equation\n",
        "\n",
        "\n",
        "Loss Function (Sum of Squared errors) --> $L(m,c)$ = $\\sum\\limits_{i=1}^{n}(y_{i}-(mx_{i}+c))^2$\\\n",
        "Find the values of m & c in order to minimize the loss function, We will take the partial derivatives of this function with respect to m & c respectively\n",
        "\n",
        "\n",
        "slope_m = $\\frac{\\partial L(m,c)} {\\partial m}= -2\\sum\\limits_{i=1}^{n}(y_{i}-mx_{i}-c)x_{i}$\\\n",
        "slope_c = $\\frac{\\partial L(m,c)} {\\partial c}= -2\\sum\\limits_{i=1}^{n}(y_{i}-mx_{i}-c)$\\\n",
        "Here we get 2 slopes one with respect to m and other with rest to c. For n-dimensions when we get a vector of slopes we call it as **GRADIENT**.\n",
        "\n",
        "Gradient = $\\Delta L = \\begin{bmatrix}\\frac{\\partial L(m,c)} {\\partial m} \\\\ \\frac{\\partial L(m,c)} {\\partial c}\\end{bmatrix}$\n",
        "\n",
        "We want to move in the opposite direction of slopes or gradient collectively to reach the minimum of loss function. This is called **DESCENT**\n",
        "\n",
        "negation of slope_m = $-\\bigg[\\frac{\\partial L(m,c)}{\\partial m}\\bigg]$\\\n",
        "negation of slope_c = $-\\bigg[\\frac{\\partial L(m,c)}{\\partial c}\\bigg]$\n",
        "\n",
        "Step Size for m = $-\\eta\\bigg[\\frac{\\partial L(m,c)}{\\partial m}\\bigg]$\\\n",
        "Step Size for c = $-\\eta\\bigg[\\frac{\\partial L(m,c)}{\\partial c}\\bigg]$\\\n",
        "where $\\eta$ is the learning rate which is a hyperparameter.\n",
        "\n",
        "Updating the values of parameters m & c :\\\n",
        "$m_{new} = m_{old} -\\eta\\bigg[\\frac{\\partial L(m,c)}{\\partial m}\\bigg]$\\\n",
        "$c_{new} = c_{old} -\\eta\\bigg[\\frac{\\partial L(m,c)}{\\partial c}\\bigg]$\n",
        "\n",
        "The above process of updating the values will continue until either of the 2 conditions are met :\\\n",
        "Condition 1: **Minimum Step Size is equal to 0.001 or smaller**\\\n",
        "Condition 2: **Maximum Number of Steps is equal to 1000 or greater**\n",
        "\n",
        "This process of repeatedly taking steps in the opposite direction of gradient of the differentiable function at current point in order to reach its minimum is called **GRADIENT DESCENT**\n"
      ],
      "metadata": {
        "id": "N6xWRuZ8ZzAM"
      }
    },
    {
      "cell_type": "markdown",
      "source": [
        "####**Steps to perform Gradient Descent**\n",
        "\n",
        "**Step1:** Take the derivative of the loss function for each parameter in it.\n",
        "\n",
        "**Step2:** Pick random values for the parameters.\n",
        "\n",
        "**Step3:** Plug the parameter values into the derivatives (the Gradient)\n",
        "\n",
        "**Step4:** Calculate the step sizes: Step Size = Slope X Learning Rate\n",
        "\n",
        "**Step5:** Calculate the new parameters:\n",
        "New Parameter  = Old Parameter - Step Size\n",
        "\n",
        "**Iteration:** Now go back to **Step3** and repeat until **Step Size is very small**, or you reach the **Maximum Number of Steps**"
      ],
      "metadata": {
        "id": "XUcHUTMAZ5yO"
      }
    },
    {
      "cell_type": "code",
      "execution_count": 13,
      "metadata": {
        "id": "kDqx9oJ0ZmaF"
      },
      "outputs": [],
      "source": [
        "import numpy as np\n",
        "import pandas as pd\n",
        "import matplotlib.pyplot as plt\n",
        "import seaborn as sns\n",
        "from sklearn.datasets import make_regression\n",
        "from sklearn.linear_model import LinearRegression\n",
        "import ipywidgets as widgets\n",
        "from IPython.display import HTML"
      ]
    },
    {
      "cell_type": "code",
      "source": [
        "X,y = make_regression(n_samples=5,n_features=1,n_informative=1,n_targets=1,noise=30,random_state=13)"
      ],
      "metadata": {
        "id": "FhJsBqB4Zrm6"
      },
      "execution_count": 14,
      "outputs": []
    },
    {
      "cell_type": "code",
      "source": [
        "df = pd.DataFrame({'Input(X)': X.ravel(),'Output(y)': y})\n",
        "df"
      ],
      "metadata": {
        "colab": {
          "base_uri": "https://localhost:8080/",
          "height": 206
        },
        "id": "-E7WDFoKZsrx",
        "outputId": "bcabb28c-79f7-496e-db2c-2ed6d3e16089"
      },
      "execution_count": 15,
      "outputs": [
        {
          "output_type": "execute_result",
          "data": {
            "text/plain": [
              "   Input(X)   Output(y)\n",
              "0  1.345102  116.052765\n",
              "1 -0.712391  -29.737799\n",
              "2 -0.044503   -7.157073\n",
              "3  0.753766   38.939981\n",
              "4  0.451812   18.395462"
            ],
            "text/html": [
              "\n",
              "  <div id=\"df-bf6e70b2-ee7c-42aa-a413-bec9854c6b02\" class=\"colab-df-container\">\n",
              "    <div>\n",
              "<style scoped>\n",
              "    .dataframe tbody tr th:only-of-type {\n",
              "        vertical-align: middle;\n",
              "    }\n",
              "\n",
              "    .dataframe tbody tr th {\n",
              "        vertical-align: top;\n",
              "    }\n",
              "\n",
              "    .dataframe thead th {\n",
              "        text-align: right;\n",
              "    }\n",
              "</style>\n",
              "<table border=\"1\" class=\"dataframe\">\n",
              "  <thead>\n",
              "    <tr style=\"text-align: right;\">\n",
              "      <th></th>\n",
              "      <th>Input(X)</th>\n",
              "      <th>Output(y)</th>\n",
              "    </tr>\n",
              "  </thead>\n",
              "  <tbody>\n",
              "    <tr>\n",
              "      <th>0</th>\n",
              "      <td>1.345102</td>\n",
              "      <td>116.052765</td>\n",
              "    </tr>\n",
              "    <tr>\n",
              "      <th>1</th>\n",
              "      <td>-0.712391</td>\n",
              "      <td>-29.737799</td>\n",
              "    </tr>\n",
              "    <tr>\n",
              "      <th>2</th>\n",
              "      <td>-0.044503</td>\n",
              "      <td>-7.157073</td>\n",
              "    </tr>\n",
              "    <tr>\n",
              "      <th>3</th>\n",
              "      <td>0.753766</td>\n",
              "      <td>38.939981</td>\n",
              "    </tr>\n",
              "    <tr>\n",
              "      <th>4</th>\n",
              "      <td>0.451812</td>\n",
              "      <td>18.395462</td>\n",
              "    </tr>\n",
              "  </tbody>\n",
              "</table>\n",
              "</div>\n",
              "    <div class=\"colab-df-buttons\">\n",
              "\n",
              "  <div class=\"colab-df-container\">\n",
              "    <button class=\"colab-df-convert\" onclick=\"convertToInteractive('df-bf6e70b2-ee7c-42aa-a413-bec9854c6b02')\"\n",
              "            title=\"Convert this dataframe to an interactive table.\"\n",
              "            style=\"display:none;\">\n",
              "\n",
              "  <svg xmlns=\"http://www.w3.org/2000/svg\" height=\"24px\" viewBox=\"0 -960 960 960\">\n",
              "    <path d=\"M120-120v-720h720v720H120Zm60-500h600v-160H180v160Zm220 220h160v-160H400v160Zm0 220h160v-160H400v160ZM180-400h160v-160H180v160Zm440 0h160v-160H620v160ZM180-180h160v-160H180v160Zm440 0h160v-160H620v160Z\"/>\n",
              "  </svg>\n",
              "    </button>\n",
              "\n",
              "  <style>\n",
              "    .colab-df-container {\n",
              "      display:flex;\n",
              "      gap: 12px;\n",
              "    }\n",
              "\n",
              "    .colab-df-convert {\n",
              "      background-color: #E8F0FE;\n",
              "      border: none;\n",
              "      border-radius: 50%;\n",
              "      cursor: pointer;\n",
              "      display: none;\n",
              "      fill: #1967D2;\n",
              "      height: 32px;\n",
              "      padding: 0 0 0 0;\n",
              "      width: 32px;\n",
              "    }\n",
              "\n",
              "    .colab-df-convert:hover {\n",
              "      background-color: #E2EBFA;\n",
              "      box-shadow: 0px 1px 2px rgba(60, 64, 67, 0.3), 0px 1px 3px 1px rgba(60, 64, 67, 0.15);\n",
              "      fill: #174EA6;\n",
              "    }\n",
              "\n",
              "    .colab-df-buttons div {\n",
              "      margin-bottom: 4px;\n",
              "    }\n",
              "\n",
              "    [theme=dark] .colab-df-convert {\n",
              "      background-color: #3B4455;\n",
              "      fill: #D2E3FC;\n",
              "    }\n",
              "\n",
              "    [theme=dark] .colab-df-convert:hover {\n",
              "      background-color: #434B5C;\n",
              "      box-shadow: 0px 1px 3px 1px rgba(0, 0, 0, 0.15);\n",
              "      filter: drop-shadow(0px 1px 2px rgba(0, 0, 0, 0.3));\n",
              "      fill: #FFFFFF;\n",
              "    }\n",
              "  </style>\n",
              "\n",
              "    <script>\n",
              "      const buttonEl =\n",
              "        document.querySelector('#df-bf6e70b2-ee7c-42aa-a413-bec9854c6b02 button.colab-df-convert');\n",
              "      buttonEl.style.display =\n",
              "        google.colab.kernel.accessAllowed ? 'block' : 'none';\n",
              "\n",
              "      async function convertToInteractive(key) {\n",
              "        const element = document.querySelector('#df-bf6e70b2-ee7c-42aa-a413-bec9854c6b02');\n",
              "        const dataTable =\n",
              "          await google.colab.kernel.invokeFunction('convertToInteractive',\n",
              "                                                    [key], {});\n",
              "        if (!dataTable) return;\n",
              "\n",
              "        const docLinkHtml = 'Like what you see? Visit the ' +\n",
              "          '<a target=\"_blank\" href=https://colab.research.google.com/notebooks/data_table.ipynb>data table notebook</a>'\n",
              "          + ' to learn more about interactive tables.';\n",
              "        element.innerHTML = '';\n",
              "        dataTable['output_type'] = 'display_data';\n",
              "        await google.colab.output.renderOutput(dataTable, element);\n",
              "        const docLink = document.createElement('div');\n",
              "        docLink.innerHTML = docLinkHtml;\n",
              "        element.appendChild(docLink);\n",
              "      }\n",
              "    </script>\n",
              "  </div>\n",
              "\n",
              "\n",
              "<div id=\"df-5ae25643-eadb-46ad-bfec-efa3f70a131a\">\n",
              "  <button class=\"colab-df-quickchart\" onclick=\"quickchart('df-5ae25643-eadb-46ad-bfec-efa3f70a131a')\"\n",
              "            title=\"Suggest charts\"\n",
              "            style=\"display:none;\">\n",
              "\n",
              "<svg xmlns=\"http://www.w3.org/2000/svg\" height=\"24px\"viewBox=\"0 0 24 24\"\n",
              "     width=\"24px\">\n",
              "    <g>\n",
              "        <path d=\"M19 3H5c-1.1 0-2 .9-2 2v14c0 1.1.9 2 2 2h14c1.1 0 2-.9 2-2V5c0-1.1-.9-2-2-2zM9 17H7v-7h2v7zm4 0h-2V7h2v10zm4 0h-2v-4h2v4z\"/>\n",
              "    </g>\n",
              "</svg>\n",
              "  </button>\n",
              "\n",
              "<style>\n",
              "  .colab-df-quickchart {\n",
              "      --bg-color: #E8F0FE;\n",
              "      --fill-color: #1967D2;\n",
              "      --hover-bg-color: #E2EBFA;\n",
              "      --hover-fill-color: #174EA6;\n",
              "      --disabled-fill-color: #AAA;\n",
              "      --disabled-bg-color: #DDD;\n",
              "  }\n",
              "\n",
              "  [theme=dark] .colab-df-quickchart {\n",
              "      --bg-color: #3B4455;\n",
              "      --fill-color: #D2E3FC;\n",
              "      --hover-bg-color: #434B5C;\n",
              "      --hover-fill-color: #FFFFFF;\n",
              "      --disabled-bg-color: #3B4455;\n",
              "      --disabled-fill-color: #666;\n",
              "  }\n",
              "\n",
              "  .colab-df-quickchart {\n",
              "    background-color: var(--bg-color);\n",
              "    border: none;\n",
              "    border-radius: 50%;\n",
              "    cursor: pointer;\n",
              "    display: none;\n",
              "    fill: var(--fill-color);\n",
              "    height: 32px;\n",
              "    padding: 0;\n",
              "    width: 32px;\n",
              "  }\n",
              "\n",
              "  .colab-df-quickchart:hover {\n",
              "    background-color: var(--hover-bg-color);\n",
              "    box-shadow: 0 1px 2px rgba(60, 64, 67, 0.3), 0 1px 3px 1px rgba(60, 64, 67, 0.15);\n",
              "    fill: var(--button-hover-fill-color);\n",
              "  }\n",
              "\n",
              "  .colab-df-quickchart-complete:disabled,\n",
              "  .colab-df-quickchart-complete:disabled:hover {\n",
              "    background-color: var(--disabled-bg-color);\n",
              "    fill: var(--disabled-fill-color);\n",
              "    box-shadow: none;\n",
              "  }\n",
              "\n",
              "  .colab-df-spinner {\n",
              "    border: 2px solid var(--fill-color);\n",
              "    border-color: transparent;\n",
              "    border-bottom-color: var(--fill-color);\n",
              "    animation:\n",
              "      spin 1s steps(1) infinite;\n",
              "  }\n",
              "\n",
              "  @keyframes spin {\n",
              "    0% {\n",
              "      border-color: transparent;\n",
              "      border-bottom-color: var(--fill-color);\n",
              "      border-left-color: var(--fill-color);\n",
              "    }\n",
              "    20% {\n",
              "      border-color: transparent;\n",
              "      border-left-color: var(--fill-color);\n",
              "      border-top-color: var(--fill-color);\n",
              "    }\n",
              "    30% {\n",
              "      border-color: transparent;\n",
              "      border-left-color: var(--fill-color);\n",
              "      border-top-color: var(--fill-color);\n",
              "      border-right-color: var(--fill-color);\n",
              "    }\n",
              "    40% {\n",
              "      border-color: transparent;\n",
              "      border-right-color: var(--fill-color);\n",
              "      border-top-color: var(--fill-color);\n",
              "    }\n",
              "    60% {\n",
              "      border-color: transparent;\n",
              "      border-right-color: var(--fill-color);\n",
              "    }\n",
              "    80% {\n",
              "      border-color: transparent;\n",
              "      border-right-color: var(--fill-color);\n",
              "      border-bottom-color: var(--fill-color);\n",
              "    }\n",
              "    90% {\n",
              "      border-color: transparent;\n",
              "      border-bottom-color: var(--fill-color);\n",
              "    }\n",
              "  }\n",
              "</style>\n",
              "\n",
              "  <script>\n",
              "    async function quickchart(key) {\n",
              "      const quickchartButtonEl =\n",
              "        document.querySelector('#' + key + ' button');\n",
              "      quickchartButtonEl.disabled = true;  // To prevent multiple clicks.\n",
              "      quickchartButtonEl.classList.add('colab-df-spinner');\n",
              "      try {\n",
              "        const charts = await google.colab.kernel.invokeFunction(\n",
              "            'suggestCharts', [key], {});\n",
              "      } catch (error) {\n",
              "        console.error('Error during call to suggestCharts:', error);\n",
              "      }\n",
              "      quickchartButtonEl.classList.remove('colab-df-spinner');\n",
              "      quickchartButtonEl.classList.add('colab-df-quickchart-complete');\n",
              "    }\n",
              "    (() => {\n",
              "      let quickchartButtonEl =\n",
              "        document.querySelector('#df-5ae25643-eadb-46ad-bfec-efa3f70a131a button');\n",
              "      quickchartButtonEl.style.display =\n",
              "        google.colab.kernel.accessAllowed ? 'block' : 'none';\n",
              "    })();\n",
              "  </script>\n",
              "</div>\n",
              "\n",
              "  <div id=\"id_d5d5af6d-0fde-485b-887d-2241c0eb6fa6\">\n",
              "    <style>\n",
              "      .colab-df-generate {\n",
              "        background-color: #E8F0FE;\n",
              "        border: none;\n",
              "        border-radius: 50%;\n",
              "        cursor: pointer;\n",
              "        display: none;\n",
              "        fill: #1967D2;\n",
              "        height: 32px;\n",
              "        padding: 0 0 0 0;\n",
              "        width: 32px;\n",
              "      }\n",
              "\n",
              "      .colab-df-generate:hover {\n",
              "        background-color: #E2EBFA;\n",
              "        box-shadow: 0px 1px 2px rgba(60, 64, 67, 0.3), 0px 1px 3px 1px rgba(60, 64, 67, 0.15);\n",
              "        fill: #174EA6;\n",
              "      }\n",
              "\n",
              "      [theme=dark] .colab-df-generate {\n",
              "        background-color: #3B4455;\n",
              "        fill: #D2E3FC;\n",
              "      }\n",
              "\n",
              "      [theme=dark] .colab-df-generate:hover {\n",
              "        background-color: #434B5C;\n",
              "        box-shadow: 0px 1px 3px 1px rgba(0, 0, 0, 0.15);\n",
              "        filter: drop-shadow(0px 1px 2px rgba(0, 0, 0, 0.3));\n",
              "        fill: #FFFFFF;\n",
              "      }\n",
              "    </style>\n",
              "    <button class=\"colab-df-generate\" onclick=\"generateWithVariable('df')\"\n",
              "            title=\"Generate code using this dataframe.\"\n",
              "            style=\"display:none;\">\n",
              "\n",
              "  <svg xmlns=\"http://www.w3.org/2000/svg\" height=\"24px\"viewBox=\"0 0 24 24\"\n",
              "       width=\"24px\">\n",
              "    <path d=\"M7,19H8.4L18.45,9,17,7.55,7,17.6ZM5,21V16.75L18.45,3.32a2,2,0,0,1,2.83,0l1.4,1.43a1.91,1.91,0,0,1,.58,1.4,1.91,1.91,0,0,1-.58,1.4L9.25,21ZM18.45,9,17,7.55Zm-12,3A5.31,5.31,0,0,0,4.9,8.1,5.31,5.31,0,0,0,1,6.5,5.31,5.31,0,0,0,4.9,4.9,5.31,5.31,0,0,0,6.5,1,5.31,5.31,0,0,0,8.1,4.9,5.31,5.31,0,0,0,12,6.5,5.46,5.46,0,0,0,6.5,12Z\"/>\n",
              "  </svg>\n",
              "    </button>\n",
              "    <script>\n",
              "      (() => {\n",
              "      const buttonEl =\n",
              "        document.querySelector('#id_d5d5af6d-0fde-485b-887d-2241c0eb6fa6 button.colab-df-generate');\n",
              "      buttonEl.style.display =\n",
              "        google.colab.kernel.accessAllowed ? 'block' : 'none';\n",
              "\n",
              "      buttonEl.onclick = () => {\n",
              "        google.colab.notebook.generateWithVariable('df');\n",
              "      }\n",
              "      })();\n",
              "    </script>\n",
              "  </div>\n",
              "\n",
              "    </div>\n",
              "  </div>\n"
            ]
          },
          "metadata": {},
          "execution_count": 15
        }
      ]
    },
    {
      "cell_type": "code",
      "source": [
        "plt.scatter(data=df,x='Input(X)',y='Output(y)')"
      ],
      "metadata": {
        "colab": {
          "base_uri": "https://localhost:8080/",
          "height": 447
        },
        "id": "2noPJkB4ZvZF",
        "outputId": "98e604f8-57ab-430d-81a9-a118aa948656"
      },
      "execution_count": 16,
      "outputs": [
        {
          "output_type": "execute_result",
          "data": {
            "text/plain": [
              "<matplotlib.collections.PathCollection at 0x7d0e562a89d0>"
            ]
          },
          "metadata": {},
          "execution_count": 16
        },
        {
          "output_type": "display_data",
          "data": {
            "text/plain": [
              "<Figure size 640x480 with 1 Axes>"
            ],
            "image/png": "[encoded data removed]"
          },
          "metadata": {}
        }
      ]
    },
    {
      "cell_type": "code",
      "source": [
        "# performing LinearRegression to get the values of m & c for validation\n",
        "from sklearn.linear_model import LinearRegression\n",
        "regressor = LinearRegression()\n",
        "regressor.fit(X,y)\n",
        "m_ols = regressor.coef_\n",
        "c_ols = regressor.intercept_\n",
        "print(m_ols)\n",
        "print(c_ols)"
      ],
      "metadata": {
        "colab": {
          "base_uri": "https://localhost:8080/"
        },
        "id": "p0DRGn1lZ-IJ",
        "outputId": "ee78558c-490e-4fd9-bf6b-5a7ec7c69617"
      },
      "execution_count": 17,
      "outputs": [
        {
          "output_type": "stream",
          "name": "stdout",
          "text": [
            "[67.94615406]\n",
            "2.9224859302119093\n"
          ]
        }
      ]
    },
    {
      "cell_type": "code",
      "source": [
        "plt.scatter(X,y)\n",
        "plt.plot(X,regressor.predict(X),color='red')"
      ],
      "metadata": {
        "colab": {
          "base_uri": "https://localhost:8080/",
          "height": 447
        },
        "id": "2SIVtWwqZ_j3",
        "outputId": "208ab576-0c99-4b8c-dbc5-c00cea6d6ba6"
      },
      "execution_count": 18,
      "outputs": [
        {
          "output_type": "execute_result",
          "data": {
            "text/plain": [
              "[<matplotlib.lines.Line2D at 0x7d0e56112b90>]"
            ]
          },
          "metadata": {},
          "execution_count": 18
        },
        {
          "output_type": "display_data",
          "data": {
            "text/plain": [
              "<Figure size 640x480 with 1 Axes>"
            ],
            "image/png": "[encoded data removed]"
          },
          "metadata": {}
        }
      ]
    },
    {
      "cell_type": "code",
      "source": [
        "\n",
        "class GDR:\n",
        "\n",
        "  def __init__(self,lr,epochs):\n",
        "    self.m=-100\n",
        "    self.c=150\n",
        "    self.lr = lr\n",
        "    self.epochs = epochs\n",
        "\n",
        "  def updateparameters(self,X,y):\n",
        "    for i in range(self.epochs):\n",
        "      slope_c = -2 * np.sum(y - self.m*X.ravel() - self.c)\n",
        "      slope_m = -2 * np.sum((y - self.m*X.ravel() - self.c)*X.ravel())\n",
        "\n",
        "      stepsize_m = self.lr*slope_m\n",
        "      stepsize_c = self.lr*slope_c\n",
        "      self.c = self.c - (stepsize_c)\n",
        "      self.m = self.m - (stepsize_m)\n",
        "\n",
        "    print(f'm:{self.m}')\n",
        "    print(f'c:{self.c}')\n",
        "\n",
        "  def predict(self):\n",
        "    y_pred = self.m*X+self.c\n",
        "    return y_pred\n",
        "\n",
        "gd = GDR(0.01,300)\n",
        "gd.updateparameters(X,y)\n",
        "gd.predict()\n",
        "\n"
      ],
      "metadata": {
        "colab": {
          "base_uri": "https://localhost:8080/"
        },
        "id": "R-AWfE-TaCqG",
        "outputId": "b79b7b47-2099-43a4-d3ab-ef12209097af"
      },
      "execution_count": 19,
      "outputs": [
        {
          "output_type": "stream",
          "name": "stdout",
          "text": [
            "m:67.94532360051123\n",
            "c:2.922984749636085\n"
          ]
        },
        {
          "output_type": "execute_result",
          "data": {
            "text/plain": [
              "array([[ 94.31635561],\n",
              "       [-45.48062931],\n",
              "       [ -0.10079131],\n",
              "       [ 54.13788527],\n",
              "       [ 33.62152031]])"
            ]
          },
          "metadata": {},
          "execution_count": 19
        }
      ]
    },
    {
      "cell_type": "code",
      "source": [
        "def updateparameters(epochs=1):\n",
        "  m=-130\n",
        "  c=150\n",
        "  lr = 0.01\n",
        "  for i in range(epochs):\n",
        "    slope_c = -2 * np.sum(y - m*X.ravel() - c)\n",
        "    slope_m = -2 * np.sum((y - m*X.ravel() - c)*X.ravel())\n",
        "\n",
        "    stepsize_m = lr*slope_m\n",
        "    stepsize_c = lr*slope_c\n",
        "    c = c - (stepsize_c)\n",
        "    m = m - (stepsize_m)\n",
        "  y_pred = m*X+c\n",
        "  print(f'm(slope):{m}')\n",
        "  print(f'c(intercept):{c}')\n",
        "  print(f'epochs/iterations: {epochs}')\n",
        "  print(f'                                equation: y = {round(m)}x + {round(c)}')\n",
        "  plt.scatter(X,y)\n",
        "  plt.plot(X,y_pred,color='red')\n",
        "  plt.ylim(-50,250)\n",
        "  plt.xlim(-1,1.5)\n",
        "  plt.xlabel('input or independent variable (x)')\n",
        "  plt.ylabel('output or target varaible (y)')\n",
        "  plt.show()\n",
        "\n",
        "widgets.interact(updateparameters, epochs=(1,130,1))"
      ],
      "metadata": {
        "id": "4Iz8ZIa9biB1",
        "colab": {
          "base_uri": "https://localhost:8080/",
          "height": 574,
          "referenced_widgets": [
            "138bd63d7ff14bafbde30126c9361c7a",
            "34fd23cef08944c9814ab92823aa2bbf",
            "c852345abc07443092d70d1645f25e73",
            "1d71cd54d48545c4951eb192d4595842",
            "5dced56d2be34742be442ed9b9e08206",
            "29b2c29193a84fa8b9d7309388260a3d",
            "ba3f15848d064f64a279b092c8c84448"
          ]
        },
        "outputId": "c5dc2167-b558-4367-b59e-ebe1dd46b969"
      },
      "execution_count": 20,
      "outputs": [
        {
          "output_type": "display_data",
          "data": {
            "text/plain": [
              "interactive(children=(IntSlider(value=1, description='epochs', max=130, min=1), Output()), _dom_classes=('widg…"
            ],
            "application/vnd.jupyter.widget-view+json": {
              "version_major": 2,
              "version_minor": 0,
              "model_id": "138bd63d7ff14bafbde30126c9361c7a"
            }
          },
          "metadata": {}
        },
        {
          "output_type": "execute_result",
          "data": {
            "text/plain": [
              "<function __main__.updateparameters(epochs=1)>"
            ]
          },
          "metadata": {},
          "execution_count": 20
        }
      ]
    },
    {
      "cell_type": "markdown",
      "source": [
        "### **Demonstrate the fitting of model with the dataset**"
      ],
      "metadata": {
        "id": "TJAeaJ-mPE66"
      }
    },
    {
      "cell_type": "code",
      "source": [
        "def updateparameters1(epochs=1):\n",
        "  m=-130\n",
        "  c=150\n",
        "  lr = 0.01\n",
        "  for i in range(epochs):\n",
        "    slope_c = -2 * np.sum(y - m*X.ravel() - c)\n",
        "    slope_m = -2 * np.sum((y - m*X.ravel() - c)*X.ravel())\n",
        "\n",
        "    stepsize_m = lr*slope_m\n",
        "    stepsize_c = lr*slope_c\n",
        "    c = c - (stepsize_c)\n",
        "    m = m - (stepsize_m)\n",
        "  y_pred = m*X+c\n",
        "  print(f'm(slope):{m}')\n",
        "  print(f'c(intercept):{c}')\n",
        "  print(f'epochs/iterations: {epochs}')\n",
        "  print(f'                                equation: y = {round(m)}x + {round(c)}')\n",
        "  plt.scatter(X,y)\n",
        "  plt.plot(X,y_pred,color='red')\n",
        "  plt.xlabel('input or independent variable (x)')\n",
        "  plt.ylabel('output or target varaible (y)')\n",
        "  plt.ylim(-50,250)\n",
        "  plt.xlim(-1,1.5)\n",
        "  plt.show()\n",
        "\n",
        "display(HTML('''<link rel=\"stylesheet\" href=\"https://stackpath.bootstrapcdn.com/font-awesome/4.7.0/css/font-awesome.min.css\"> '''))\n",
        "widgets.interact(updateparameters1, epochs=widgets.Play(min=1,max=130,interval=200));"
      ],
      "metadata": {
        "id": "ZL5VA9AQkxNq",
        "colab": {
          "base_uri": "https://localhost:8080/",
          "height": 556,
          "referenced_widgets": [
            "5d1f9f4ebf3448359bafc947d038df1e",
            "7cbed241466042bc816dfcd76ec9a112",
            "36084788c045412fba57d6d4f39971e8",
            "23937b9e7d124858b44b477ba95a24ae",
            "6485415e20704272802b276eebbbbc78",
            "4a40180f5f664661a36e04c0c251a8cf",
            "8e871bb3154b442c8ac618914be8f214"
          ]
        },
        "outputId": "fdfa2d1c-5562-49de-80e2-ada8d503be03"
      },
      "execution_count": 21,
      "outputs": [
        {
          "output_type": "display_data",
          "data": {
            "text/plain": [
              "<IPython.core.display.HTML object>"
            ],
            "text/html": [
              "<link rel=\"stylesheet\" href=\"https://stackpath.bootstrapcdn.com/font-awesome/4.7.0/css/font-awesome.min.css\"> "
            ]
          },
          "metadata": {}
        },
        {
          "output_type": "display_data",
          "data": {
            "text/plain": [
              "interactive(children=(Play(value=1, description='epochs', interval=200, max=130, min=1), Output()), _dom_class…"
            ],
            "application/vnd.jupyter.widget-view+json": {
              "version_major": 2,
              "version_minor": 0,
              "model_id": "5d1f9f4ebf3448359bafc947d038df1e"
            }
          },
          "metadata": {}
        }
      ]
    },
    {
      "cell_type": "markdown",
      "source": [
        "### **Demonstrate the graph of Loss Function with m(slope of line)**"
      ],
      "metadata": {
        "id": "zbxVUVFVO5q7"
      }
    },
    {
      "cell_type": "code",
      "source": [
        "def cost_plot():\n",
        "  slope=np.arange(-1000,1500,1)\n",
        "  inc = 2.922984749636085\n",
        "  loss=[]\n",
        "  for i in slope:\n",
        "    loss.append(np.sum((y- i*X.ravel() - inc)**2))\n",
        "  plt.plot(slope,loss)\n",
        "  plt.ylim(0,100000)\n",
        "  plt.xlim(-150,250)\n",
        "  return (slope,loss)\n",
        "  #plt.show()\n",
        "\n",
        "def updateparameters2(epochs=1):\n",
        "  m=-300\n",
        "  c=150\n",
        "  lr = 0.01\n",
        "  cost = []\n",
        "  m_i = []\n",
        "  slope=np.arange(-1000,1500,1)\n",
        "  inc = 2.922984749636085\n",
        "  loss=[]\n",
        "  for i in slope:\n",
        "    loss.append(np.sum((y- i*X.ravel() - inc)**2))\n",
        "  plt.plot(slope,loss)\n",
        "\n",
        "  for i in range(epochs):\n",
        "    #slope_c = -2 * np.sum(y - m*X.ravel() - c)\n",
        "    slope_m = -2 * np.sum((y - m*X.ravel() - inc)*X.ravel())\n",
        "\n",
        "    stepsize_m = lr*slope_m\n",
        "    #stepsize_c = lr*slope_c\n",
        "    #c = c - (stepsize_c)\n",
        "    m = m - (stepsize_m)\n",
        "    m_i.append(m)\n",
        "    cost.append(np.sum((y- m*X.ravel() - inc)**2))\n",
        "  y_pred = m*X+inc\n",
        "  loss = np.sum((y- m*X.ravel() - inc)**2)\n",
        "  print(f'm:{m}')\n",
        "  print(f'Loss(m): {loss}')\n",
        "  print(f'epochs/iterations: {epochs}')\n",
        "  #print(f'c:{c}')\n",
        "  #print(f'cost:{cost}')\n",
        "  plt.scatter(m_i,cost,color='red')\n",
        "  plt.ylim(0,100000)\n",
        "  plt.xlim(-150,250)\n",
        "  plt.ylabel('Loss Function L(m)')\n",
        "  plt.xlabel('m(slope of line)')\n",
        "  plt.show()\n",
        "\n",
        "\n",
        "#widgets.interact(updateparameters2, epochs=(1,300,1))\n",
        "display(HTML('''<link rel=\"stylesheet\" href=\"https://stackpath.bootstrapcdn.com/font-awesome/4.7.0/css/font-awesome.min.css\"> '''))\n",
        "widgets.interact(updateparameters2, epochs=widgets.Play(min=1,max=120,interval=500));"
      ],
      "metadata": {
        "colab": {
          "base_uri": "https://localhost:8080/",
          "height": 539,
          "referenced_widgets": [
            "fbdc0f3117bb4e09b4a081c853be4556",
            "75c71c6b147845da874bfca276504182",
            "f13c875dff9e4028be4ee33be970f53b",
            "30b2ee6abd284695ac76da6ef99f80ad",
            "e704e27480744aa4afda4c1d132f1559",
            "d2282114838c41939856c9a6780f7f3f",
            "012b6b1086b74f3dabeeb4f974803eb4"
          ]
        },
        "id": "iPZWAKiHwW3X",
        "outputId": "cb1b6cb3-3264-4d22-e812-76bb61ca2c51"
      },
      "execution_count": 22,
      "outputs": [
        {
          "output_type": "display_data",
          "data": {
            "text/plain": [
              "<IPython.core.display.HTML object>"
            ],
            "text/html": [
              "<link rel=\"stylesheet\" href=\"https://stackpath.bootstrapcdn.com/font-awesome/4.7.0/css/font-awesome.min.css\"> "
            ]
          },
          "metadata": {}
        },
        {
          "output_type": "display_data",
          "data": {
            "text/plain": [
              "interactive(children=(Play(value=1, description='epochs', interval=500, max=120, min=1), Output()), _dom_class…"
            ],
            "application/vnd.jupyter.widget-view+json": {
              "version_major": 2,
              "version_minor": 0,
              "model_id": "fbdc0f3117bb4e09b4a081c853be4556"
            }
          },
          "metadata": {}
        }
      ]
    },
    {
      "cell_type": "code",
      "source": [],
      "metadata": {
        "id": "Lg3rI6FhJhB7"
      },
      "execution_count": 22,
      "outputs": []
    },
    {
      "cell_type": "markdown",
      "source": [
        "### **Demostrate effect of Learning Rate**"
      ],
      "metadata": {
        "id": "oM5bLi5BOxGW"
      }
    },
    {
      "cell_type": "code",
      "source": [
        "\n",
        "\n",
        "def cost_plot():\n",
        "  slope=np.arange(-1000,1500,1)\n",
        "  inc = 2.922984749636085\n",
        "  loss=[]\n",
        "  for i in slope:\n",
        "    loss.append(np.sum((y- i*X.ravel() - inc)**2))\n",
        "  plt.plot(slope,loss)\n",
        "  plt.ylim(0,180000)\n",
        "  plt.xlim(-300,350)\n",
        "  return (slope,loss)\n",
        "  #plt.show()\n",
        "\n",
        "def updateparameters2(epochs=1):\n",
        "  m=-300\n",
        "  c=150\n",
        "  lr = 0.001\n",
        "  cost = []\n",
        "  m_i = []\n",
        "  slope=np.arange(-1000,1500,1)\n",
        "  inc = 2.922984749636085\n",
        "  loss=[]\n",
        "  for i in slope:\n",
        "    loss.append(np.sum((y- i*X.ravel() - inc)**2))\n",
        "  plt.plot(slope,loss)\n",
        "\n",
        "  for i in range(epochs):\n",
        "    #slope_c = -2 * np.sum(y - m*X.ravel() - c)\n",
        "    slope_m = -2 * np.sum((y - m*X.ravel() - inc)*X.ravel())\n",
        "\n",
        "    stepsize_m = lr*slope_m\n",
        "    #stepsize_c = lr*slope_c\n",
        "    #c = c - (stepsize_c)\n",
        "    m = m - (stepsize_m)\n",
        "    m_i.append(m)\n",
        "    cost.append(np.sum((y- m*X.ravel() - inc)**2))\n",
        "  y_pred = m*X+inc\n",
        "  loss = np.sum((y- m*X.ravel() - inc)**2)\n",
        "  print(f'm:{m}')\n",
        "  print(f'Loss(m): {loss}')\n",
        "  print(f'epochs/iterations: {epochs}')\n",
        "  print(f'                                   Learning Rate: {lr}')\n",
        "  #print(f'c:{c}')\n",
        "  #print(f'cost:{cost}')\n",
        "  plt.plot(m_i,cost,color='red',linewidth=3)\n",
        "  plt.ylabel('Loss Function L(m)')\n",
        "  plt.xlabel('m(slope of line)')\n",
        "  plt.ylim(0,180000)\n",
        "  plt.xlim(-300,350)\n",
        "  plt.show()\n",
        "\n",
        "\n",
        "#widgets.interact(updateparameters2, epochs=(1,300,1))\n",
        "display(HTML('''<link rel=\"stylesheet\" href=\"https://stackpath.bootstrapcdn.com/font-awesome/4.7.0/css/font-awesome.min.css\"> '''))\n",
        "\n",
        "#widgets.interact(updateparameters2, epochs=widgets.Play(min=1,max=120,  interval=800));     # big lr\n",
        "#widgets.interact(updateparameters2, epochs=widgets.Play(min=1,max=120,   interval=500));    # normal lr\n",
        "widgets.interact(updateparameters2, epochs=widgets.Play(min=1,max=1000));                    # small lr"
      ],
      "metadata": {
        "colab": {
          "base_uri": "https://localhost:8080/",
          "height": 556,
          "referenced_widgets": [
            "a9e0379389414dbc86e44c92104ca60a",
            "fb9eb344c6b1417da776ffd536be8596",
            "1a2078fd77b0483b96c3c903d25b4545",
            "9c9f52ed5d8d4f199361194cec574359",
            "c6e76f020fe24a4b9457042aaa5e17b4",
            "907e760e194943faadd033e8eee67405",
            "2bd32b469a6e46e0bad9c6c5aacb460a"
          ]
        },
        "id": "3Bihze6jXHLj",
        "outputId": "15435134-5e0f-4596-a3a8-3c2faa65991a"
      },
      "execution_count": 23,
      "outputs": [
        {
          "output_type": "display_data",
          "data": {
            "text/plain": [
              "<IPython.core.display.HTML object>"
            ],
            "text/html": [
              "<link rel=\"stylesheet\" href=\"https://stackpath.bootstrapcdn.com/font-awesome/4.7.0/css/font-awesome.min.css\"> "
            ]
          },
          "metadata": {}
        },
        {
          "output_type": "display_data",
          "data": {
            "text/plain": [
              "interactive(children=(Play(value=1, description='epochs', max=1000, min=1), Output()), _dom_classes=('widget-i…"
            ],
            "application/vnd.jupyter.widget-view+json": {
              "version_major": 2,
              "version_minor": 0,
              "model_id": "a9e0379389414dbc86e44c92104ca60a"
            }
          },
          "metadata": {}
        }
      ]
    },
    {
      "cell_type": "code",
      "source": [],
      "metadata": {
        "id": "yotLIEpMJg_l"
      },
      "execution_count": 23,
      "outputs": []
    },
    {
      "cell_type": "code",
      "source": [],
      "metadata": {
        "id": "FmWuWAcsJg9J"
      },
      "execution_count": 23,
      "outputs": []
    },
    {
      "cell_type": "code",
      "source": [],
      "metadata": {
        "id": "AdlzRP_DJg62"
      },
      "execution_count": 23,
      "outputs": []
    },
    {
      "cell_type": "code",
      "source": [],
      "metadata": {
        "id": "Sk1FG4MyJg4f"
      },
      "execution_count": 23,
      "outputs": []
    },
    {
      "cell_type": "code",
      "source": [],
      "metadata": {
        "id": "WMLEVOE3Jg2B"
      },
      "execution_count": 23,
      "outputs": []
    },
    {
      "cell_type": "code",
      "source": [],
      "metadata": {
        "id": "0kNgJTWFJgzw"
      },
      "execution_count": 23,
      "outputs": []
    },
    {
      "cell_type": "code",
      "source": [],
      "metadata": {
        "id": "BeDJtyzBJgxQ"
      },
      "execution_count": 23,
      "outputs": []
    },
    {
      "cell_type": "code",
      "source": [],
      "metadata": {
        "id": "Ru5r-cdQJgu4"
      },
      "execution_count": 23,
      "outputs": []
    },
    {
      "cell_type": "code",
      "source": [],
      "metadata": {
        "id": "VLGJvLhVJgsl"
      },
      "execution_count": 23,
      "outputs": []
    },
    {
      "cell_type": "code",
      "source": [],
      "metadata": {
        "id": "JpKcwmE2JgqT"
      },
      "execution_count": 23,
      "outputs": []
    },
    {
      "cell_type": "code",
      "source": [],
      "metadata": {
        "id": "QMSM2VAWJgoB"
      },
      "execution_count": 23,
      "outputs": []
    },
    {
      "cell_type": "code",
      "source": [],
      "metadata": {
        "id": "gibTeUEkJglw"
      },
      "execution_count": 23,
      "outputs": []
    },
    {
      "cell_type": "code",
      "source": [],
      "metadata": {
        "id": "o_VGb5qIJgjI"
      },
      "execution_count": 23,
      "outputs": []
    },
    {
      "cell_type": "code",
      "source": [
        "def updateparameters1(epochs=1):\n",
        "  m=-100\n",
        "  c=150\n",
        "  lr = 0.01\n",
        "  cost = []\n",
        "  m_i = []\n",
        "  for i in range(epochs):\n",
        "    slope_c = -2 * np.sum(y - m*X.ravel() - c)\n",
        "    slope_m = -2 * np.sum((y - m*X.ravel() - c)*X.ravel())\n",
        "\n",
        "    stepsize_m = lr*slope_m\n",
        "    stepsize_c = lr*slope_c\n",
        "    c = c - (stepsize_c)\n",
        "    m = m - (stepsize_m)\n",
        "    m_i.append(m)\n",
        "    cost.append(np.sum((y- m*X.ravel() - c)**2))\n",
        "  y_pred = m*X+c\n",
        "  print(f'm:{m}')\n",
        "  print(f'c:{c}')\n",
        "  print(f'cost:{cost}')\n",
        "  #plt.scatter(X,y)\n",
        "  plt.plot(m_i,cost)\n",
        "  #plt.ylim(-50,250)\n",
        "  #plt.xlim(-1,1.5)\n",
        "  plt.show()\n",
        "updateparameters1(epochs=300)\n",
        "#display(HTML('''<link rel=\"stylesheet\" href=\"https://stackpath.bootstrapcdn.com/font-awesome/4.7.0/css/font-awesome.min.css\"> '''))\n",
        "#widgets.interact(updateparameters1, epochs=widgets.Play(min=1,max=300));"
      ],
      "metadata": {
        "colab": {
          "base_uri": "https://localhost:8080/",
          "height": 502
        },
        "id": "fOW8oybSsSb-",
        "outputId": "895fcca9-0a89-43cc-cfcf-84b2981c697e"
      },
      "execution_count": 24,
      "outputs": [
        {
          "output_type": "stream",
          "name": "stdout",
          "text": [
            "m:67.94532360051123\n",
            "c:2.922984749636085\n",
            "cost:[98114.0111191276, 89368.86016738991, 81564.82894941182, 74570.34923846382, 68277.31773563311, 62596.25740549535, 57452.54263805624, 52783.44857243043, 48535.83938374904, 44664.35238504988, 41129.967263635386, 37898.87484303521, 34941.579124641685, 32232.1813194877, 29747.806135483504, 27468.139514322447, 25375.05391380401, 23452.302567505103, 21685.26828114279, 20060.755518845504, 18566.817005337438, 17192.607985738603, 15928.262769896366, 14764.789340637206, 13693.97870052932, 12708.326327956422, 11800.963655528136, 10965.597906858902, 10196.458958393605, 9488.252151999122, 8836.116187518961, 8235.58538480661, 7682.555731506381, 7173.254233461888, 6704.211164850241, 6272.234879416797, 5874.388895973863, 5507.971013305184, 5170.494243867661, 4859.669383820674, 4573.389060201761, 4309.7131154887165, 4066.855206110717, 3843.1705052971247, 3637.14441245494, 3447.382181417188, 3272.5993886994443, 3111.6131705738967, 2963.3341645065366, 2826.7590964523074, 2700.963960785957, 2585.0977443603138, 2478.376650408415, 2380.0787818067174, 2289.5392466475964, 2206.145652175721, 2129.3339559624546, 2058.5846457574394, 1993.4192217943078, 1933.3969574616392, 1878.1119162012744, 1827.190204281762, 1780.287440730634, 1737.0864272092474, 1697.2950019903708, 1660.6440634624714, 1626.8857497455306, 1595.7917620701437, 1567.1518205524644, 1540.7722418995463, 1516.4746294093504, 1494.0946663930047, 1473.4810048494328, 1454.4942418688968, 1437.0059768371652, 1420.8979430597922, 1406.0612079303914, 1392.39543623112, 1379.8082115812026, 1368.2144114430448, 1357.5356314580467, 1347.6996552181358, 1338.6399658865255, 1330.2952963643884, 1322.6092149609462, 1315.5297437646707, 1309.009007134523, 1303.0029079339063, 1297.4708293176695, 1292.375360055348, 1287.6820415330021, 1283.3591347226704, 1279.3774055434737, 1275.7099271628256, 1272.3318979007338, 1269.2204735057562, 1266.3546126683123, 1263.714934726624, 1261.2835886029836, 1259.0441320840166, 1256.9814206285475, 1255.0815049511198, 1253.3315366885583, 1251.7196815116433, 1250.2350390942847, 1248.8675693989999, 1247.6080247801733, 1246.4478874459542, 1245.3793118558524, 1244.3950716645136, 1243.4885108528526, 1242.653498716082, 1241.8843884042271, 1241.1759787347557, 1240.523479019078, 1239.9224766650536, 1239.3689073364103, 1238.8590274672783, 1238.3893889459657, 1237.9568157967683, 1237.5583827021312, 1237.1913952199034, 1236.8533715619164, 1236.5420258106512, 1236.255252460499, 1235.9911121790813, 1235.747818692324, 1235.5237267046077, 1235.3173207722998, 1235.127205055419, 1234.952093878133, 1234.7908030342535, 1234.6422417789277, 1234.5054054523669, 1234.3793686857462, 1234.2632791433014, 1234.156351758329, 1234.057863424098, 1233.967148103771, 1233.8835923262627, 1233.8066310375884, 1233.7357437796254, 1233.6704511704702, 1233.610311662571, 1233.5549185567168, 1233.503897251698, 1233.456902711031, 1233.4136171296107, 1233.3737477845286, 1233.3370250554995, 1233.3032006015362, 1233.2720456815125, 1233.2433496072847, 1233.2169183188876, 1233.1925730721912, 1233.170149230121, 1233.149495149287, 1233.1304711544813, 1233.112948594107, 1233.0968089701628, 1233.0819431368895, 1233.0682505626592, 1233.0556386501198, 1233.044022109999, 1233.033322384328, 1233.0234671151813, 1233.0143896553525, 1233.0060286176465, 1232.9983274597405, 1232.9912341018135, 1232.98470057435, 1232.9786826937416, 1232.9731397634912, 1232.968034299001, 1232.963331774074, 1232.9590003874341, 1232.955010847662, 1232.9513361751108, 1232.9479515194541, 1232.9448339916323, 1232.9419625090636, 1232.9393176530702, 1232.9368815375599, 1232.9346376880658, 1232.9325709303407, 1232.9306672877367, 1232.9289138866868, 1232.927298869648, 1232.925811314912, 1232.9244411627471, 1232.9231791473678, 1232.9220167342721, 1232.920946062531, 1232.9199598916239, 1232.9190515524735, 1232.9182149023507, 1232.917444283328, 1232.9167344840193, 1232.9160807043393, 1232.9154785230398, 1232.9149238678117, 1232.914412987746, 1232.9139424279665, 1232.913509006268, 1232.9131097915943, 1232.9127420842176, 1232.912403397481, 1232.912091440984, 1232.9118041050901, 1232.9115394466626, 1232.9112956759236, 1232.9110711443495, 1232.910864333525, 1232.9106738448709, 1232.9104983901896, 1232.9103367829525, 1232.9101879302743, 1232.910050825525, 1232.909924541521, 1232.9098082242535, 1232.9097010871164, 1232.9096024055843, 1232.9095115123137, 1232.9094277926308, 1232.9093506803722, 1232.9092796540597, 1232.90921423337, 1232.9091539758906, 1232.9090984741238, 1232.9090473527333, 1232.9090002660068, 1232.908956895515, 1232.9089169479612, 1232.908880153196, 1232.9088462623902, 1232.9088150463563, 1232.9087862939905, 1232.908759810854, 1232.9087354178507, 1232.9087129500215, 1232.908692255425, 1232.9086731941118, 1232.9086556371788, 1232.9086394658948, 1232.9086245709004, 1232.9086108514657, 1232.9085982148133, 1232.908586575486, 1232.9085758547715, 1232.90856598017, 1232.9085568849032, 1232.9085485074647, 1232.9085407911996, 1232.9085336839275, 1232.9085271375836, 1232.908521107898, 1232.9085155540943, 1232.9085104386152, 1232.9085057268653, 1232.9085013869822, 1232.9084973896163, 1232.9084937077357, 1232.90849031644, 1232.9084871927969, 1232.9084843156818, 1232.9084816656375, 1232.9084792247431, 1232.9084769764922, 1232.9084749056806, 1232.9084729983033, 1232.9084712414624, 1232.908469623278, 1232.9084681328052, 1232.908466759965, 1232.908465495474, 1232.908464330781, 1232.9084632580089, 1232.9084622699036, 1232.908461359782, 1232.9084605214907, 1232.9084597493606, 1232.9084590381685, 1232.9084583831063, 1232.9084577797441, 1232.9084572240006, 1232.9084567121183, 1232.9084562406358, 1232.9084558063635, 1232.9084554063654, 1232.908455037937, 1232.908454698586, 1232.9084543860179, 1232.9084540981185, 1232.9084538329405, 1232.9084535886918, 1232.9084533637194, 1232.9084531565031, 1232.9084529656411, 1232.9084527898417, 1232.908452627917]\n"
          ]
        },
        {
          "output_type": "display_data",
          "data": {
            "text/plain": [
              "<Figure size 640x480 with 1 Axes>"
            ],
            "image/png": "[encoded data removed]"
          },
          "metadata": {}
        }
      ]
    }
  ]
}